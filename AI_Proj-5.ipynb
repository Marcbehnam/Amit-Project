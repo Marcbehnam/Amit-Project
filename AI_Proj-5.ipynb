{
  "cells": [
    {
      "cell_type": "code",
      "execution_count": 107,
      "metadata": {
        "id": "1Boh3f36Y5S1"
      },
      "outputs": [],
      "source": [
        "import pandas as pd\n",
        "import numpy as np"
      ]
    },
    {
      "cell_type": "markdown",
      "source": [
        "UPLOAD DATA"
      ],
      "metadata": {
        "id": "AZi1BZL9DbWb"
      }
    },
    {
      "cell_type": "code",
      "execution_count": 108,
      "metadata": {
        "colab": {
          "base_uri": "https://localhost:8080/",
          "height": 419
        },
        "id": "h9Env8_bZB_Z",
        "outputId": "cd47321d-b2f5-4b67-9eba-f7fba7aec701"
      },
      "outputs": [
        {
          "output_type": "execute_result",
          "data": {
            "text/plain": [
              "         id keyword location  \\\n",
              "0         1     NaN      NaN   \n",
              "1         4     NaN      NaN   \n",
              "2         5     NaN      NaN   \n",
              "3         6     NaN      NaN   \n",
              "4         7     NaN      NaN   \n",
              "...     ...     ...      ...   \n",
              "7608  10869     NaN      NaN   \n",
              "7609  10870     NaN      NaN   \n",
              "7610  10871     NaN      NaN   \n",
              "7611  10872     NaN      NaN   \n",
              "7612  10873     NaN      NaN   \n",
              "\n",
              "                                                   text  target  \n",
              "0     Our Deeds are the Reason of this #earthquake M...       1  \n",
              "1                Forest fire near La Ronge Sask. Canada       1  \n",
              "2     All residents asked to 'shelter in place' are ...       1  \n",
              "3     13,000 people receive #wildfires evacuation or...       1  \n",
              "4     Just got sent this photo from Ruby #Alaska as ...       1  \n",
              "...                                                 ...     ...  \n",
              "7608  Two giant cranes holding a bridge collapse int...       1  \n",
              "7609  @aria_ahrary @TheTawniest The out of control w...       1  \n",
              "7610  M1.94 [01:04 UTC]?5km S of Volcano Hawaii. htt...       1  \n",
              "7611  Police investigating after an e-bike collided ...       1  \n",
              "7612  The Latest: More Homes Razed by Northern Calif...       1  \n",
              "\n",
              "[7613 rows x 5 columns]"
            ],
            "text/html": [
              "\n",
              "  <div id=\"df-a5347c2e-f50a-4115-877a-9159435954f7\">\n",
              "    <div class=\"colab-df-container\">\n",
              "      <div>\n",
              "<style scoped>\n",
              "    .dataframe tbody tr th:only-of-type {\n",
              "        vertical-align: middle;\n",
              "    }\n",
              "\n",
              "    .dataframe tbody tr th {\n",
              "        vertical-align: top;\n",
              "    }\n",
              "\n",
              "    .dataframe thead th {\n",
              "        text-align: right;\n",
              "    }\n",
              "</style>\n",
              "<table border=\"1\" class=\"dataframe\">\n",
              "  <thead>\n",
              "    <tr style=\"text-align: right;\">\n",
              "      <th></th>\n",
              "      <th>id</th>\n",
              "      <th>keyword</th>\n",
              "      <th>location</th>\n",
              "      <th>text</th>\n",
              "      <th>target</th>\n",
              "    </tr>\n",
              "  </thead>\n",
              "  <tbody>\n",
              "    <tr>\n",
              "      <th>0</th>\n",
              "      <td>1</td>\n",
              "      <td>NaN</td>\n",
              "      <td>NaN</td>\n",
              "      <td>Our Deeds are the Reason of this #earthquake M...</td>\n",
              "      <td>1</td>\n",
              "    </tr>\n",
              "    <tr>\n",
              "      <th>1</th>\n",
              "      <td>4</td>\n",
              "      <td>NaN</td>\n",
              "      <td>NaN</td>\n",
              "      <td>Forest fire near La Ronge Sask. Canada</td>\n",
              "      <td>1</td>\n",
              "    </tr>\n",
              "    <tr>\n",
              "      <th>2</th>\n",
              "      <td>5</td>\n",
              "      <td>NaN</td>\n",
              "      <td>NaN</td>\n",
              "      <td>All residents asked to 'shelter in place' are ...</td>\n",
              "      <td>1</td>\n",
              "    </tr>\n",
              "    <tr>\n",
              "      <th>3</th>\n",
              "      <td>6</td>\n",
              "      <td>NaN</td>\n",
              "      <td>NaN</td>\n",
              "      <td>13,000 people receive #wildfires evacuation or...</td>\n",
              "      <td>1</td>\n",
              "    </tr>\n",
              "    <tr>\n",
              "      <th>4</th>\n",
              "      <td>7</td>\n",
              "      <td>NaN</td>\n",
              "      <td>NaN</td>\n",
              "      <td>Just got sent this photo from Ruby #Alaska as ...</td>\n",
              "      <td>1</td>\n",
              "    </tr>\n",
              "    <tr>\n",
              "      <th>...</th>\n",
              "      <td>...</td>\n",
              "      <td>...</td>\n",
              "      <td>...</td>\n",
              "      <td>...</td>\n",
              "      <td>...</td>\n",
              "    </tr>\n",
              "    <tr>\n",
              "      <th>7608</th>\n",
              "      <td>10869</td>\n",
              "      <td>NaN</td>\n",
              "      <td>NaN</td>\n",
              "      <td>Two giant cranes holding a bridge collapse int...</td>\n",
              "      <td>1</td>\n",
              "    </tr>\n",
              "    <tr>\n",
              "      <th>7609</th>\n",
              "      <td>10870</td>\n",
              "      <td>NaN</td>\n",
              "      <td>NaN</td>\n",
              "      <td>@aria_ahrary @TheTawniest The out of control w...</td>\n",
              "      <td>1</td>\n",
              "    </tr>\n",
              "    <tr>\n",
              "      <th>7610</th>\n",
              "      <td>10871</td>\n",
              "      <td>NaN</td>\n",
              "      <td>NaN</td>\n",
              "      <td>M1.94 [01:04 UTC]?5km S of Volcano Hawaii. htt...</td>\n",
              "      <td>1</td>\n",
              "    </tr>\n",
              "    <tr>\n",
              "      <th>7611</th>\n",
              "      <td>10872</td>\n",
              "      <td>NaN</td>\n",
              "      <td>NaN</td>\n",
              "      <td>Police investigating after an e-bike collided ...</td>\n",
              "      <td>1</td>\n",
              "    </tr>\n",
              "    <tr>\n",
              "      <th>7612</th>\n",
              "      <td>10873</td>\n",
              "      <td>NaN</td>\n",
              "      <td>NaN</td>\n",
              "      <td>The Latest: More Homes Razed by Northern Calif...</td>\n",
              "      <td>1</td>\n",
              "    </tr>\n",
              "  </tbody>\n",
              "</table>\n",
              "<p>7613 rows × 5 columns</p>\n",
              "</div>\n",
              "      <button class=\"colab-df-convert\" onclick=\"convertToInteractive('df-a5347c2e-f50a-4115-877a-9159435954f7')\"\n",
              "              title=\"Convert this dataframe to an interactive table.\"\n",
              "              style=\"display:none;\">\n",
              "        \n",
              "  <svg xmlns=\"http://www.w3.org/2000/svg\" height=\"24px\"viewBox=\"0 0 24 24\"\n",
              "       width=\"24px\">\n",
              "    <path d=\"M0 0h24v24H0V0z\" fill=\"none\"/>\n",
              "    <path d=\"M18.56 5.44l.94 2.06.94-2.06 2.06-.94-2.06-.94-.94-2.06-.94 2.06-2.06.94zm-11 1L8.5 8.5l.94-2.06 2.06-.94-2.06-.94L8.5 2.5l-.94 2.06-2.06.94zm10 10l.94 2.06.94-2.06 2.06-.94-2.06-.94-.94-2.06-.94 2.06-2.06.94z\"/><path d=\"M17.41 7.96l-1.37-1.37c-.4-.4-.92-.59-1.43-.59-.52 0-1.04.2-1.43.59L10.3 9.45l-7.72 7.72c-.78.78-.78 2.05 0 2.83L4 21.41c.39.39.9.59 1.41.59.51 0 1.02-.2 1.41-.59l7.78-7.78 2.81-2.81c.8-.78.8-2.07 0-2.86zM5.41 20L4 18.59l7.72-7.72 1.47 1.35L5.41 20z\"/>\n",
              "  </svg>\n",
              "      </button>\n",
              "      \n",
              "  <style>\n",
              "    .colab-df-container {\n",
              "      display:flex;\n",
              "      flex-wrap:wrap;\n",
              "      gap: 12px;\n",
              "    }\n",
              "\n",
              "    .colab-df-convert {\n",
              "      background-color: #E8F0FE;\n",
              "      border: none;\n",
              "      border-radius: 50%;\n",
              "      cursor: pointer;\n",
              "      display: none;\n",
              "      fill: #1967D2;\n",
              "      height: 32px;\n",
              "      padding: 0 0 0 0;\n",
              "      width: 32px;\n",
              "    }\n",
              "\n",
              "    .colab-df-convert:hover {\n",
              "      background-color: #E2EBFA;\n",
              "      box-shadow: 0px 1px 2px rgba(60, 64, 67, 0.3), 0px 1px 3px 1px rgba(60, 64, 67, 0.15);\n",
              "      fill: #174EA6;\n",
              "    }\n",
              "\n",
              "    [theme=dark] .colab-df-convert {\n",
              "      background-color: #3B4455;\n",
              "      fill: #D2E3FC;\n",
              "    }\n",
              "\n",
              "    [theme=dark] .colab-df-convert:hover {\n",
              "      background-color: #434B5C;\n",
              "      box-shadow: 0px 1px 3px 1px rgba(0, 0, 0, 0.15);\n",
              "      filter: drop-shadow(0px 1px 2px rgba(0, 0, 0, 0.3));\n",
              "      fill: #FFFFFF;\n",
              "    }\n",
              "  </style>\n",
              "\n",
              "      <script>\n",
              "        const buttonEl =\n",
              "          document.querySelector('#df-a5347c2e-f50a-4115-877a-9159435954f7 button.colab-df-convert');\n",
              "        buttonEl.style.display =\n",
              "          google.colab.kernel.accessAllowed ? 'block' : 'none';\n",
              "\n",
              "        async function convertToInteractive(key) {\n",
              "          const element = document.querySelector('#df-a5347c2e-f50a-4115-877a-9159435954f7');\n",
              "          const dataTable =\n",
              "            await google.colab.kernel.invokeFunction('convertToInteractive',\n",
              "                                                     [key], {});\n",
              "          if (!dataTable) return;\n",
              "\n",
              "          const docLinkHtml = 'Like what you see? Visit the ' +\n",
              "            '<a target=\"_blank\" href=https://colab.research.google.com/notebooks/data_table.ipynb>data table notebook</a>'\n",
              "            + ' to learn more about interactive tables.';\n",
              "          element.innerHTML = '';\n",
              "          dataTable['output_type'] = 'display_data';\n",
              "          await google.colab.output.renderOutput(dataTable, element);\n",
              "          const docLink = document.createElement('div');\n",
              "          docLink.innerHTML = docLinkHtml;\n",
              "          element.appendChild(docLink);\n",
              "        }\n",
              "      </script>\n",
              "    </div>\n",
              "  </div>\n",
              "  "
            ]
          },
          "metadata": {},
          "execution_count": 108
        }
      ],
      "source": [
        "# REQ 1\n",
        "tweets=pd.read_csv(\"train.csv\")\n",
        "tweets"
      ]
    },
    {
      "cell_type": "markdown",
      "source": [
        "DATA INFO"
      ],
      "metadata": {
        "id": "AcagwPBZDhDV"
      }
    },
    {
      "cell_type": "code",
      "execution_count": 109,
      "metadata": {
        "colab": {
          "base_uri": "https://localhost:8080/"
        },
        "id": "rAotLO1OZyIn",
        "outputId": "4de24fe4-fcd2-4f18-be22-5ba6ff30fa55"
      },
      "outputs": [
        {
          "output_type": "stream",
          "name": "stdout",
          "text": [
            "<class 'pandas.core.frame.DataFrame'>\n",
            "RangeIndex: 7613 entries, 0 to 7612\n",
            "Data columns (total 5 columns):\n",
            " #   Column    Non-Null Count  Dtype \n",
            "---  ------    --------------  ----- \n",
            " 0   id        7613 non-null   int64 \n",
            " 1   keyword   7552 non-null   object\n",
            " 2   location  5080 non-null   object\n",
            " 3   text      7613 non-null   object\n",
            " 4   target    7613 non-null   int64 \n",
            "dtypes: int64(2), object(3)\n",
            "memory usage: 297.5+ KB\n"
          ]
        }
      ],
      "source": [
        "# REQ 2\n",
        "tweets.info()"
      ]
    },
    {
      "cell_type": "code",
      "execution_count": 110,
      "metadata": {
        "colab": {
          "base_uri": "https://localhost:8080/"
        },
        "id": "9F1sVqacaBV9",
        "outputId": "b5030433-ea0b-46aa-bfee-f4b75aeafaed"
      },
      "outputs": [
        {
          "output_type": "execute_result",
          "data": {
            "text/plain": [
              "0"
            ]
          },
          "metadata": {},
          "execution_count": 110
        }
      ],
      "source": [
        "tweets.duplicated().sum()"
      ]
    },
    {
      "cell_type": "markdown",
      "source": [
        "MISSING DATA"
      ],
      "metadata": {
        "id": "lDyGIMITDoLy"
      }
    },
    {
      "cell_type": "code",
      "execution_count": 111,
      "metadata": {
        "colab": {
          "base_uri": "https://localhost:8080/"
        },
        "id": "CEmeJbVYaqc1",
        "outputId": "f037b676-abf7-4aa5-d472-07f89bd50161"
      },
      "outputs": [
        {
          "output_type": "execute_result",
          "data": {
            "text/plain": [
              "id             0\n",
              "keyword       61\n",
              "location    2533\n",
              "text           0\n",
              "target         0\n",
              "dtype: int64"
            ]
          },
          "metadata": {},
          "execution_count": 111
        }
      ],
      "source": [
        "#REQ 3\n",
        "tweets.isnull().sum()"
      ]
    },
    {
      "cell_type": "code",
      "execution_count": 112,
      "metadata": {
        "colab": {
          "base_uri": "https://localhost:8080/"
        },
        "id": "5GEXC92Fa8NV",
        "outputId": "c080408c-41ed-425a-fb19-9d46a7123964"
      },
      "outputs": [
        {
          "output_type": "execute_result",
          "data": {
            "text/plain": [
              "id          0.000000\n",
              "keyword     0.008013\n",
              "location    0.332720\n",
              "text        0.000000\n",
              "target      0.000000\n",
              "dtype: float64"
            ]
          },
          "metadata": {},
          "execution_count": 112
        }
      ],
      "source": [
        "tweets.isnull().sum()/len(tweets)"
      ]
    },
    {
      "cell_type": "markdown",
      "source": [
        "DATA IN EACH CLASS"
      ],
      "metadata": {
        "id": "g6l5NuhyDsxN"
      }
    },
    {
      "cell_type": "code",
      "execution_count": 113,
      "metadata": {
        "colab": {
          "base_uri": "https://localhost:8080/"
        },
        "id": "18KGRb64fbCn",
        "outputId": "0cfe272f-31dd-4830-b325-d7e50240afe5"
      },
      "outputs": [
        {
          "output_type": "execute_result",
          "data": {
            "text/plain": [
              "0    4342\n",
              "1    3271\n",
              "Name: target, dtype: int64"
            ]
          },
          "metadata": {},
          "execution_count": 113
        }
      ],
      "source": [
        "#REQ 4\n",
        "tweets.target.value_counts()"
      ]
    },
    {
      "cell_type": "markdown",
      "source": [
        "TOP 15 LOCATION"
      ],
      "metadata": {
        "id": "sr0VECFyDxNx"
      }
    },
    {
      "cell_type": "code",
      "execution_count": 114,
      "metadata": {
        "colab": {
          "base_uri": "https://localhost:8080/"
        },
        "id": "SySjxdVdfoEZ",
        "outputId": "b3404be1-c1cc-4f6c-a746-2b664c84eeff"
      },
      "outputs": [
        {
          "output_type": "execute_result",
          "data": {
            "text/plain": [
              "0     NaN\n",
              "1     NaN\n",
              "2     NaN\n",
              "3     NaN\n",
              "4     NaN\n",
              "5     NaN\n",
              "6     NaN\n",
              "7     NaN\n",
              "8     NaN\n",
              "9     NaN\n",
              "10    NaN\n",
              "11    NaN\n",
              "12    NaN\n",
              "13    NaN\n",
              "14    NaN\n",
              "Name: location, dtype: object"
            ]
          },
          "metadata": {},
          "execution_count": 114
        }
      ],
      "source": [
        "#REQ 5\n",
        "tweets.location[:15]"
      ]
    },
    {
      "cell_type": "markdown",
      "source": [
        "TOP 15 KEYWORDS"
      ],
      "metadata": {
        "id": "7OYAbtp0D37q"
      }
    },
    {
      "cell_type": "code",
      "execution_count": 115,
      "metadata": {
        "colab": {
          "base_uri": "https://localhost:8080/"
        },
        "id": "qFPXJInCidMG",
        "outputId": "afec0232-cb3e-4a60-9270-daeb999d93b2"
      },
      "outputs": [
        {
          "output_type": "execute_result",
          "data": {
            "text/plain": [
              "0     NaN\n",
              "1     NaN\n",
              "2     NaN\n",
              "3     NaN\n",
              "4     NaN\n",
              "5     NaN\n",
              "6     NaN\n",
              "7     NaN\n",
              "8     NaN\n",
              "9     NaN\n",
              "10    NaN\n",
              "11    NaN\n",
              "12    NaN\n",
              "13    NaN\n",
              "14    NaN\n",
              "Name: keyword, dtype: object"
            ]
          },
          "metadata": {},
          "execution_count": 115
        }
      ],
      "source": [
        "#REQ 6\n",
        "tweets.keyword[:15]"
      ]
    },
    {
      "cell_type": "markdown",
      "source": [
        "MOST COMMON WORDS AND STOPWORDS\n"
      ],
      "metadata": {
        "id": "25s4VzbwD_Er"
      }
    },
    {
      "cell_type": "code",
      "execution_count": 116,
      "metadata": {
        "colab": {
          "base_uri": "https://localhost:8080/"
        },
        "id": "3VGOGFycjMZ8",
        "outputId": "f312391e-cbf0-4542-886e-4b99dc0bae50"
      },
      "outputs": [
        {
          "output_type": "stream",
          "name": "stderr",
          "text": [
            "[nltk_data] Downloading package stopwords to /root/nltk_data...\n",
            "[nltk_data]   Package stopwords is already up-to-date!\n"
          ]
        }
      ],
      "source": [
        "# REQ 7 and 8\n",
        "import re\n",
        "import nltk\n",
        "nltk.download('stopwords')\n",
        "from nltk.corpus import stopwords\n",
        "stop_words=stopwords.words('english')\n",
        "from nltk.stem import PorterStemmer\n"
      ]
    },
    {
      "cell_type": "code",
      "execution_count": 117,
      "metadata": {
        "id": "u1w2RLecp7km"
      },
      "outputs": [],
      "source": [
        "def process_tweets(tweets):\n",
        "    clean_tweets=[]\n",
        "    stop_tweets=[]\n",
        "    stemmer=PorterStemmer()\n",
        "\n",
        "    for tweet in tweets:\n",
        "        #clean tweet\n",
        "        tweet=re.sub(r'(@|#)[a-zA-Z0-9_]+',\"\",tweet)# remove hash $ mention\n",
        "        tweet=re.sub(r'https?:\\/\\/\\S+',\"\",tweet) # remove hyperlink\n",
        "        tweet=re.sub(r'\\W',\" \",tweet) # remove special chacters \n",
        "        tweet=re.sub(r'\\s[0-9]+\\s',\" \",tweet) # remove numbers\n",
        "        tweet=re.sub('^\\s+',\"\",tweet) # remove spaces\n",
        "        tweet=re.sub('\\s+$',\"\",tweet) # remove spaces\n",
        "\n",
        "        for word in tweet.split():\n",
        "          if word.lower() not in stop_words:\n",
        "            clean_tweet=[stemmer.stem(word.lower())]\n",
        "            clean_tweets.append(clean_tweet)\n",
        "          else:\n",
        "            stop_tweet=[stemmer.stem(word.lower())]\n",
        "            stop_tweets.append(stop_tweet)\n",
        "  \n",
        "    return clean_tweets,stop_tweets"
      ]
    },
    {
      "cell_type": "code",
      "execution_count": 118,
      "metadata": {
        "colab": {
          "base_uri": "https://localhost:8080/"
        },
        "id": "oqziSoZ3tiYj",
        "outputId": "6073d944-4fa3-4d59-adc1-aa988af5e170"
      },
      "outputs": [
        {
          "output_type": "execute_result",
          "data": {
            "text/plain": [
              "(64614, 38585)"
            ]
          },
          "metadata": {},
          "execution_count": 118
        }
      ],
      "source": [
        "clean_tweets,stop_tweets= process_tweets(tweets.text)\n",
        "len(clean_tweets),len(stop_tweets)"
      ]
    },
    {
      "cell_type": "code",
      "execution_count": 119,
      "metadata": {
        "colab": {
          "base_uri": "https://localhost:8080/"
        },
        "id": "77Zy281C2qti",
        "outputId": "3fb6a721-77de-4507-aada-851967275e85"
      },
      "outputs": [
        {
          "output_type": "execute_result",
          "data": {
            "text/plain": [
              "[['deed'],\n",
              " ['reason'],\n",
              " ['may'],\n",
              " ['allah'],\n",
              " ['forgiv'],\n",
              " ['us'],\n",
              " ['forest'],\n",
              " ['fire'],\n",
              " ['near'],\n",
              " ['la'],\n",
              " ['rong'],\n",
              " ['sask'],\n",
              " ['canada'],\n",
              " ['resid'],\n",
              " ['ask'],\n",
              " ['shelter'],\n",
              " ['place'],\n",
              " ['notifi'],\n",
              " ['offic'],\n",
              " ['evacu'],\n",
              " ['shelter'],\n",
              " ['place'],\n",
              " ['order'],\n",
              " ['expect'],\n",
              " ['13'],\n",
              " ['peopl'],\n",
              " ['receiv'],\n",
              " ['evacu'],\n",
              " ['order'],\n",
              " ['california'],\n",
              " ['got'],\n",
              " ['sent'],\n",
              " ['photo'],\n",
              " ['rubi'],\n",
              " ['smoke'],\n",
              " ['pour'],\n",
              " ['school'],\n",
              " ['updat'],\n",
              " ['california'],\n",
              " ['hwi'],\n",
              " ['close'],\n",
              " ['direct'],\n",
              " ['due'],\n",
              " ['lake'],\n",
              " ['counti'],\n",
              " ['fire'],\n",
              " ['heavi'],\n",
              " ['rain'],\n",
              " ['caus'],\n",
              " ['flash'],\n",
              " ['flood'],\n",
              " ['street'],\n",
              " ['manit'],\n",
              " ['colorado'],\n",
              " ['spring'],\n",
              " ['area'],\n",
              " ['top'],\n",
              " ['hill'],\n",
              " ['see'],\n",
              " ['fire'],\n",
              " ['wood'],\n",
              " ['emerg'],\n",
              " ['evacu'],\n",
              " ['happen'],\n",
              " ['build'],\n",
              " ['across'],\n",
              " ['street'],\n",
              " ['afraid'],\n",
              " ['tornado'],\n",
              " ['come'],\n",
              " ['area'],\n",
              " ['three'],\n",
              " ['peopl'],\n",
              " ['die'],\n",
              " ['heat'],\n",
              " ['wave'],\n",
              " ['far'],\n",
              " ['haha'],\n",
              " ['south'],\n",
              " ['tampa'],\n",
              " ['get'],\n",
              " ['flood'],\n",
              " ['hah'],\n",
              " ['wait'],\n",
              " ['second'],\n",
              " ['live'],\n",
              " ['south'],\n",
              " ['tampa'],\n",
              " ['gonna'],\n",
              " ['gonna'],\n",
              " ['fvck'],\n",
              " ['day'],\n",
              " ['lost'],\n",
              " ['count'],\n",
              " ['bago'],\n",
              " ['myanmar'],\n",
              " ['arriv'],\n",
              " ['bago'],\n",
              " ['damag'],\n",
              " ['school'],\n",
              " ['bu'],\n",
              " ['multi'],\n",
              " ['car'],\n",
              " ['crash'],\n",
              " ['man'],\n",
              " ['love'],\n",
              " ['fruit'],\n",
              " ['summer'],\n",
              " ['love'],\n",
              " ['car'],\n",
              " ['fast'],\n",
              " ['goooooooaaaaaal'],\n",
              " ['ridicul'],\n",
              " ['london'],\n",
              " ['cool'],\n",
              " ['love'],\n",
              " ['ski'],\n",
              " ['wonder'],\n",
              " ['day'],\n",
              " ['looooool'],\n",
              " ['way'],\n",
              " ['eat'],\n",
              " ['shit'],\n",
              " ['nyc'],\n",
              " ['last'],\n",
              " ['week'],\n",
              " ['love'],\n",
              " ['girlfriend'],\n",
              " ['cooool'],\n",
              " ['like'],\n",
              " ['pasta'],\n",
              " ['end'],\n",
              " ['wholesal'],\n",
              " ['market'],\n",
              " ['ablaz'],\n",
              " ['alway'],\n",
              " ['tri'],\n",
              " ['bring'],\n",
              " ['heavi'],\n",
              " ['break'],\n",
              " ['news'],\n",
              " ['nigeria'],\n",
              " ['flag'],\n",
              " ['set'],\n",
              " ['ablaz'],\n",
              " ['aba'],\n",
              " ['cri'],\n",
              " ['set'],\n",
              " ['ablaz'],\n",
              " ['plu'],\n",
              " ['side'],\n",
              " ['look'],\n",
              " ['sky'],\n",
              " ['last'],\n",
              " ['night'],\n",
              " ['ablaz'],\n",
              " ['built'],\n",
              " ['much'],\n",
              " ['hype'],\n",
              " ['around'],\n",
              " ['new'],\n",
              " ['acquisit'],\n",
              " ['doubt'],\n",
              " ['set'],\n",
              " ['epl'],\n",
              " ['ablaz'],\n",
              " ['season'],\n",
              " ['inec'],\n",
              " ['offic'],\n",
              " ['abia'],\n",
              " ['set'],\n",
              " ['ablaz'],\n",
              " ['barbado'],\n",
              " ['jamaica'],\n",
              " ['ûò'],\n",
              " ['two'],\n",
              " ['car'],\n",
              " ['set'],\n",
              " ['ablaz'],\n",
              " ['santa'],\n",
              " ['cruz'],\n",
              " ['ûó'],\n",
              " ['head'],\n",
              " ['st'],\n",
              " ['elizabeth'],\n",
              " ['polic'],\n",
              " ['superintend'],\n",
              " ['ablaz'],\n",
              " ['lord'],\n",
              " ['check'],\n",
              " ['outsid'],\n",
              " ['ablaz'],\n",
              " ['aliv'],\n",
              " ['dead'],\n",
              " ['insid'],\n",
              " ['awesom'],\n",
              " ['time'],\n",
              " ['visit'],\n",
              " ['cfc'],\n",
              " ['head'],\n",
              " ['offic'],\n",
              " ['ancop'],\n",
              " ['site'],\n",
              " ['ablaz'],\n",
              " ['thank'],\n",
              " ['tita'],\n",
              " ['vida'],\n",
              " ['take'],\n",
              " ['care'],\n",
              " ['us'],\n",
              " ['soooo'],\n",
              " ['pump'],\n",
              " ['ablaz'],\n",
              " ['want'],\n",
              " ['set'],\n",
              " ['chicago'],\n",
              " ['ablaz'],\n",
              " ['preach'],\n",
              " ['hotel'],\n",
              " ['gain'],\n",
              " ['follow'],\n",
              " ['last'],\n",
              " ['week'],\n",
              " ['know'],\n",
              " ['stat'],\n",
              " ['grow'],\n",
              " ['west'],\n",
              " ['burn'],\n",
              " ['thousand'],\n",
              " ['wildfir'],\n",
              " ['ablaz'],\n",
              " ['california'],\n",
              " ['alon'],\n",
              " ['build'],\n",
              " ['perfect'],\n",
              " ['tracklist'],\n",
              " ['life'],\n",
              " ['leav'],\n",
              " ['street'],\n",
              " ['ablaz'],\n",
              " ['check'],\n",
              " ['first'],\n",
              " ['night'],\n",
              " ['retain'],\n",
              " ['quit'],\n",
              " ['weird'],\n",
              " ['better'],\n",
              " ['get'],\n",
              " ['use'],\n",
              " ['wear'],\n",
              " ['everi'],\n",
              " ['singl'],\n",
              " ['night'],\n",
              " ['next'],\n",
              " ['year'],\n",
              " ['least'],\n",
              " ['deputi'],\n",
              " ['man'],\n",
              " ['shot'],\n",
              " ['brighton'],\n",
              " ['home'],\n",
              " ['set'],\n",
              " ['ablaz'],\n",
              " ['man'],\n",
              " ['wife'],\n",
              " ['get'],\n",
              " ['six'],\n",
              " ['year'],\n",
              " ['jail'],\n",
              " ['set'],\n",
              " ['ablaz'],\n",
              " ['niec'],\n",
              " ['santa'],\n",
              " ['cruz'],\n",
              " ['ûó'],\n",
              " ['head'],\n",
              " ['st'],\n",
              " ['elizabeth'],\n",
              " ['polic'],\n",
              " ['superintend'],\n",
              " ['lanford'],\n",
              " ['salmon'],\n",
              " ['r'],\n",
              " ['polic'],\n",
              " ['arsonist'],\n",
              " ['deliber'],\n",
              " ['set'],\n",
              " ['black'],\n",
              " ['church'],\n",
              " ['north'],\n",
              " ['carolinaåêablaz'],\n",
              " ['noch'],\n",
              " ['el'],\n",
              " ['bestia'],\n",
              " ['happi'],\n",
              " ['see'],\n",
              " ['teammat'],\n",
              " ['train'],\n",
              " ['hard'],\n",
              " ['goodnight'],\n",
              " ['gunner'],\n",
              " ['trampl'],\n",
              " ['turkmen'],\n",
              " ['flag'],\n",
              " ['later'],\n",
              " ['set'],\n",
              " ['ablaz'],\n",
              " ['other'],\n",
              " ['vandal'],\n",
              " ['offic'],\n",
              " ['turkmen'],\n",
              " ['front'],\n",
              " ['truck'],\n",
              " ['ablaz'],\n",
              " ['r21'],\n",
              " ['voortrekk'],\n",
              " ['ave'],\n",
              " ['outsid'],\n",
              " ['tambo'],\n",
              " ['intl'],\n",
              " ['cargo'],\n",
              " ['section'],\n",
              " ['set'],\n",
              " ['heart'],\n",
              " ['ablaz'],\n",
              " ['everi'],\n",
              " ['citi'],\n",
              " ['gift'],\n",
              " ['everi'],\n",
              " ['skylin'],\n",
              " ['like'],\n",
              " ['kiss'],\n",
              " ['upon'],\n",
              " ['lip'],\n",
              " ['û_'],\n",
              " ['sky'],\n",
              " ['ablaz'],\n",
              " ['tonight'],\n",
              " ['lo'],\n",
              " ['angel'],\n",
              " ['expect'],\n",
              " ['ig'],\n",
              " ['fb'],\n",
              " ['fill'],\n",
              " ['sunset'],\n",
              " ['shot'],\n",
              " ['know'],\n",
              " ['peep'],\n",
              " ['west'],\n",
              " ['burn'],\n",
              " ['thousand'],\n",
              " ['wildfir'],\n",
              " ['ablaz'],\n",
              " ['alon'],\n",
              " ['revel'],\n",
              " ['wmv'],\n",
              " ['video'],\n",
              " ['mean'],\n",
              " ['mac'],\n",
              " ['farewel'],\n",
              " ['ablaz'],\n",
              " ['wmv'],\n",
              " ['en'],\n",
              " ['rout'],\n",
              " ['dvd'],\n",
              " ['gtxrwm'],\n",
              " ['progress'],\n",
              " ['greet'],\n",
              " ['month'],\n",
              " ['student'],\n",
              " ['would'],\n",
              " ['set'],\n",
              " ['pen'],\n",
              " ['ablaz'],\n",
              " ['torch'],\n",
              " ['public'],\n",
              " ['rene'],\n",
              " ['ablaz'],\n",
              " ['amp'],\n",
              " ['jacinta'],\n",
              " ['secret'],\n",
              " ['2k13'],\n",
              " ['fallen'],\n",
              " ['sky'],\n",
              " ['edit'],\n",
              " ['mar'],\n",
              " ['2013'],\n",
              " ['steve'],\n",
              " ['fire'],\n",
              " ['someth'],\n",
              " ['els'],\n",
              " ['california'],\n",
              " ['tinderbox'],\n",
              " ['clown'],\n",
              " ['set'],\n",
              " ['hood'],\n",
              " ['ablaz'],\n",
              " ['rene'],\n",
              " ['ablaz'],\n",
              " ['amp'],\n",
              " ['ian'],\n",
              " ['buff'],\n",
              " ['magnitud'],\n",
              " ['huge'],\n",
              " ['fire'],\n",
              " ['wholesal'],\n",
              " ['market'],\n",
              " ['ablaz'],\n",
              " ['time'],\n",
              " ['talk'],\n",
              " ['go'],\n",
              " ['know'],\n",
              " ['make'],\n",
              " ['due'],\n",
              " ['work'],\n",
              " ['kid'],\n",
              " ['cuz'],\n",
              " ['got'],\n",
              " ['bicycl'],\n",
              " ['accid'],\n",
              " ['amp'],\n",
              " ['split'],\n",
              " ['testicl'],\n",
              " ['imposs'],\n",
              " ['kid'],\n",
              " ['michael'],\n",
              " ['father'],\n",
              " ['accid'],\n",
              " ['w'],\n",
              " ['traffic'],\n",
              " ['move'],\n",
              " ['8m'],\n",
              " ['slower'],\n",
              " ['usual'],\n",
              " ['accid'],\n",
              " ['center'],\n",
              " ['lane'],\n",
              " ['block'],\n",
              " ['us'],\n",
              " ['nb'],\n",
              " ['great'],\n",
              " ['america'],\n",
              " ['pkwi'],\n",
              " ['accid'],\n",
              " ['summer'],\n",
              " ['read'],\n",
              " ['advic'],\n",
              " ['amp'],\n",
              " ['see'],\n",
              " ['help'],\n",
              " ['speed'],\n",
              " ['among'],\n",
              " ['top'],\n",
              " ['caus'],\n",
              " ['teen'],\n",
              " ['accid'],\n",
              " ['car'],\n",
              " ['accid'],\n",
              " ['tee'],\n",
              " ['û_'],\n",
              " ['report'],\n",
              " ['motor'],\n",
              " ['vehicl'],\n",
              " ['accid'],\n",
              " ['curri'],\n",
              " ['herman'],\n",
              " ['rd'],\n",
              " ['near'],\n",
              " ['stephenson'],\n",
              " ['involv'],\n",
              " ['overturn'],\n",
              " ['vehicl'],\n",
              " ['pleas'],\n",
              " ['use'],\n",
              " ['bigrigradio'],\n",
              " ['live'],\n",
              " ['accid'],\n",
              " ['awar'],\n",
              " ['mile'],\n",
              " ['marker'],\n",
              " ['south'],\n",
              " ['mooresvil'],\n",
              " ['iredel'],\n",
              " ['vehicl'],\n",
              " ['accid'],\n",
              " ['ramp'],\n",
              " ['close'],\n",
              " ['6'],\n",
              " ['18'],\n",
              " ['pm'],\n",
              " ['rt'],\n",
              " ['sleep'],\n",
              " ['pill'],\n",
              " ['doubl'],\n",
              " ['risk'],\n",
              " ['car'],\n",
              " ['accid'],\n",
              " ['accid'],\n",
              " ['knew'],\n",
              " ['gon'],\n",
              " ['happen'],\n",
              " ['traffic'],\n",
              " ['accid'],\n",
              " ['n'],\n",
              " ['cabrillo'],\n",
              " ['hwi'],\n",
              " ['magellan'],\n",
              " ['av'],\n",
              " ['mir'],\n",
              " ['06'],\n",
              " ['11'],\n",
              " ['58'],\n",
              " ['mile'],\n",
              " ['marker'],\n",
              " ['south'],\n",
              " ['mooresvil'],\n",
              " ['iredel'],\n",
              " ['vehicl'],\n",
              " ['accid'],\n",
              " ['congest'],\n",
              " ['6'],\n",
              " ['18'],\n",
              " ['pm'],\n",
              " ['pastor'],\n",
              " ['scene'],\n",
              " ['accid'],\n",
              " ['owner'],\n",
              " ['rang'],\n",
              " ['rover'],\n",
              " ['mom'],\n",
              " ['get'],\n",
              " ['home'],\n",
              " ['fast'],\n",
              " ['wish'],\n",
              " ['mom'],\n",
              " ['accid'],\n",
              " ['truck'],\n",
              " ['spilt'],\n",
              " ['mayonnais'],\n",
              " ['horribl'],\n",
              " ['car'],\n",
              " ['accid'],\n",
              " ['past'],\n",
              " ['sunday'],\n",
              " ['final'],\n",
              " ['abl'],\n",
              " ['get'],\n",
              " ['around'],\n",
              " ['thank'],\n",
              " ['god'],\n",
              " ['wait'],\n",
              " ['see'],\n",
              " ['piss'],\n",
              " ['donni'],\n",
              " ['tell'],\n",
              " ['anoth'],\n",
              " ['accid'],\n",
              " ['overturn'],\n",
              " ['interst'],\n",
              " ['click'],\n",
              " ['crash'],\n",
              " ['gt'],\n",
              " ['accid'],\n",
              " ['us'],\n",
              " ['sb'],\n",
              " ['sr'],\n",
              " ['carolina'],\n",
              " ['accid'],\n",
              " ['motorcyclist'],\n",
              " ['die'],\n",
              " ['crash'],\n",
              " ['car'],\n",
              " ['cross'],\n",
              " ['median'],\n",
              " ['motorcycl'],\n",
              " ['rider'],\n",
              " ['travel'],\n",
              " ['fyi'],\n",
              " ['cad'],\n",
              " ['fyi'],\n",
              " ['accid'],\n",
              " ['properti'],\n",
              " ['damag'],\n",
              " ['nh'],\n",
              " ['piner'],\n",
              " ['rd'],\n",
              " ['horndal'],\n",
              " ['dr'],\n",
              " ['rt'],\n",
              " ['naayf'],\n",
              " ['first'],\n",
              " ['accid'],\n",
              " ['year'],\n",
              " ['turn'],\n",
              " ['onto'],\n",
              " ['chandane'],\n",
              " ['magu'],\n",
              " ['near'],\n",
              " ['mma'],\n",
              " ['taxi'],\n",
              " ['ram'],\n",
              " ['halfway'],\n",
              " ['turn'],\n",
              " ['everyon'],\n",
              " ['conf'],\n",
              " ['û_'],\n",
              " ['accid'],\n",
              " ['left'],\n",
              " ['lane'],\n",
              " ['block'],\n",
              " ['rt'],\n",
              " ['nb'],\n",
              " ['eddi'],\n",
              " ['rd'],\n",
              " ['stop'],\n",
              " ['go'],\n",
              " ['traffic'],\n",
              " ['back'],\n",
              " ['nh'],\n",
              " ['3a'],\n",
              " ['delay'],\n",
              " ['min'],\n",
              " ['accid'],\n",
              " ['properti'],\n",
              " ['damag'],\n",
              " ['piner'],\n",
              " ['rd'],\n",
              " ['horndal'],\n",
              " ['dr'],\n",
              " ['accid'],\n",
              " ['fyi'],\n",
              " ['cad'],\n",
              " ['fyi'],\n",
              " ['accid'],\n",
              " ['properti'],\n",
              " ['damag'],\n",
              " ['wpd'],\n",
              " ['17th'],\n",
              " ['st'],\n",
              " ['8'],\n",
              " ['2015'],\n",
              " ['pm'],\n",
              " ['traffic'],\n",
              " ['accid'],\n",
              " ['injuri'],\n",
              " ['willi'],\n",
              " ['foreman'],\n",
              " ['rd'],\n",
              " ['aashiqui'],\n",
              " ['actress'],\n",
              " ['anu'],\n",
              " ['aggarw'],\n",
              " ['near'],\n",
              " ['fatal'],\n",
              " ['accid'],\n",
              " ['suffield'],\n",
              " ['alberta'],\n",
              " ['accid'],\n",
              " ['9'],\n",
              " ['mile'],\n",
              " ['backup'],\n",
              " ['south'],\n",
              " ['accid'],\n",
              " ['block'],\n",
              " ['right'],\n",
              " ['lane'],\n",
              " ['exit'],\n",
              " ['langtre'],\n",
              " ['rd'],\n",
              " ['consid'],\n",
              " ['nc'],\n",
              " ['nc'],\n",
              " ['nc'],\n",
              " ['altern'],\n",
              " ['accid'],\n",
              " ['chang'],\n",
              " ['life'],\n",
              " ['help'],\n",
              " ['determin'],\n",
              " ['option'],\n",
              " ['financi'],\n",
              " ['support'],\n",
              " ['life'],\n",
              " ['care'],\n",
              " ['plan'],\n",
              " ['go'],\n",
              " ['treatment'],\n",
              " ['deadli'],\n",
              " ['motorcycl'],\n",
              " ['car'],\n",
              " ['accid'],\n",
              " ['happen'],\n",
              " ['today'],\n",
              " ['detail'],\n",
              " ['marinad'],\n",
              " ['accid'],\n",
              " ['car'],\n",
              " ['even'],\n",
              " ['week'],\n",
              " ['got'],\n",
              " ['fuck'],\n",
              " ['car'],\n",
              " ['accid'],\n",
              " ['mf'],\n",
              " ['fuck'],\n",
              " ['drive'],\n",
              " ['polic'],\n",
              " ['previous'],\n",
              " ['die'],\n",
              " ['road'],\n",
              " ['accid'],\n",
              " ['kill'],\n",
              " ['explos'],\n",
              " ['still'],\n",
              " ['heard'],\n",
              " ['church'],\n",
              " ['leader'],\n",
              " ['kenya'],\n",
              " ['come'],\n",
              " ['forward'],\n",
              " ['comment'],\n",
              " ['accid'],\n",
              " ['issu'],\n",
              " ['disciplinari'],\n",
              " ['measur'],\n",
              " ['scuf'],\n",
              " ['ps'],\n",
              " ['live'],\n",
              " ['game'],\n",
              " ['cya'],\n",
              " ['man'],\n",
              " ['drive'],\n",
              " ['effort'],\n",
              " ['get'],\n",
              " ['pain'],\n",
              " ['man'],\n",
              " ['win'],\n",
              " ['roger'],\n",
              " ['bannist'],\n",
              " ['320'],\n",
              " ['ir'],\n",
              " ['icemoon'],\n",
              " ['aftershock'],\n",
              " ['û_'],\n",
              " ['victori'],\n",
              " ['bargain'],\n",
              " ['basement'],\n",
              " ['price'],\n",
              " ['dwight'],\n",
              " ['david'],\n",
              " ['eisenhow'],\n",
              " ['320'],\n",
              " ['ir'],\n",
              " ['icemoon'],\n",
              " ['aftershock'],\n",
              " ['û_'],\n",
              " ['nobodi'],\n",
              " ['rememb'],\n",
              " ['came'],\n",
              " ['second'],\n",
              " ['charl'],\n",
              " ['schulz'],\n",
              " ['im'],\n",
              " ['speak'],\n",
              " ['someon'],\n",
              " ['use'],\n",
              " ['scuf'],\n",
              " ['xb1'],\n",
              " ['peopl'],\n",
              " ['end'],\n",
              " ['get'],\n",
              " ['ps'],\n",
              " ['also'],\n",
              " ['harder'],\n",
              " ['conflict'],\n",
              " ['gloriou'],\n",
              " ['triumph'],\n",
              " ['thoma'],\n",
              " ['pain'],\n",
              " ['go'],\n",
              " ['clay'],\n",
              " ['pigeon'],\n",
              " ['shoot'],\n",
              " ['cri'],\n",
              " ['aftershock'],\n",
              " ['guess'],\n",
              " ['one'],\n",
              " ['actual'],\n",
              " ['want'],\n",
              " ['free'],\n",
              " ['aftershock'],\n",
              " ['tc'],\n",
              " ['aftershock'],\n",
              " ['terrifi'],\n",
              " ['best'],\n",
              " ['roller'],\n",
              " ['coaster'],\n",
              " ['ever'],\n",
              " ['disclaim'],\n",
              " ['aftershock'],\n",
              " ['320'],\n",
              " ['ir'],\n",
              " ['icemoon'],\n",
              " ['aftershock'],\n",
              " ['û_'],\n",
              " ['320'],\n",
              " ['ir'],\n",
              " ['icemoon'],\n",
              " ['aftershock'],\n",
              " ['û_'],\n",
              " ['320'],\n",
              " ['ir'],\n",
              " ['icemoon'],\n",
              " ['aftershock'],\n",
              " ['û_'],\n",
              " ['see'],\n",
              " ['issu'],\n",
              " ['aftershock'],\n",
              " ['320'],\n",
              " ['ir'],\n",
              " ['icemoon'],\n",
              " ['aftershock'],\n",
              " ['û_'],\n",
              " ['320'],\n",
              " ['ir'],\n",
              " ['icemoon'],\n",
              " ['aftershock'],\n",
              " ['û_'],\n",
              " ['bonu'],\n",
              " ['minut'],\n",
              " ['daili'],\n",
              " ['habit'],\n",
              " ['could'],\n",
              " ['realli'],\n",
              " ['improv'],\n",
              " ['life'],\n",
              " ['mani'],\n",
              " ['alreadi'],\n",
              " ['aftershock'],\n",
              " ['protect'],\n",
              " ['profit'],\n",
              " ['next'],\n",
              " ['global'],\n",
              " ['financi'],\n",
              " ['meltdown'],\n",
              " ['david'],\n",
              " ['wiedem'],\n",
              " ['http'],\n",
              " ['moment'],\n",
              " ['get'],\n",
              " ['scari'],\n",
              " ['roller'],\n",
              " ['coaster'],\n",
              " ['guy'],\n",
              " ['behind'],\n",
              " ['scream'],\n",
              " ['bloodi'],\n",
              " ['murder'],\n",
              " ['aftershock'],\n",
              " ['ã'],\n",
              " ['full'],\n",
              " ['ã'],\n",
              " ['stream'],\n",
              " ['youtub'],\n",
              " ['gt'],\n",
              " ['gt'],\n",
              " ['aftershock'],\n",
              " ['protect'],\n",
              " ['profit'],\n",
              " ['next'],\n",
              " ['global'],\n",
              " ['financi'],\n",
              " ['sometim'],\n",
              " ['face'],\n",
              " ['difficulti'],\n",
              " ['someth'],\n",
              " ['wrong'],\n",
              " ['someth'],\n",
              " ['right'],\n",
              " ['joel'],\n",
              " ['osteen'],\n",
              " ['thing'],\n",
              " ['stand'],\n",
              " ['dream'],\n",
              " ['tri'],\n",
              " ['belief'],\n",
              " ['actual'],\n",
              " ['possibl'],\n",
              " ['joel'],\n",
              " ['brown'],\n",
              " ['prais'],\n",
              " ['god'],\n",
              " ['ministri'],\n",
              " ['tell'],\n",
              " ['like'],\n",
              " ['rememb'],\n",
              " ['go'],\n",
              " ['die'],\n",
              " ['best'],\n",
              " ['way'],\n",
              " ['know'],\n",
              " ['avoid'],\n",
              " ['trap'],\n",
              " ['think'],\n",
              " ['someth'],\n",
              " ['lose'],\n",
              " ['ûò'],\n",
              " ['steve'],\n",
              " ['job'],\n",
              " ['tri'],\n",
              " ['orang'],\n",
              " ['aftershock'],\n",
              " ['today'],\n",
              " ['life'],\n",
              " ['never'],\n",
              " ['love'],\n",
              " ['bb'],\n",
              " ['aftershock'],\n",
              " ['aftershock'],\n",
              " ['back'],\n",
              " ['school'],\n",
              " ['kick'],\n",
              " ['great'],\n",
              " ['want'],\n",
              " ['thank'],\n",
              " ['everyon'],\n",
              " ['make'],\n",
              " ['possibl'],\n",
              " ['great'],\n",
              " ['night'],\n",
              " ['peopl'],\n",
              " ['say'],\n",
              " ['cannot'],\n",
              " ['done'],\n",
              " ['interrupt'],\n",
              " ['ûò'],\n",
              " ['georg'],\n",
              " ['bernard'],\n",
              " ['shaw'],\n",
              " ['first'],\n",
              " ['man'],\n",
              " ['get'],\n",
              " ['oyster'],\n",
              " ['second'],\n",
              " ['man'],\n",
              " ['get'],\n",
              " ['shell'],\n",
              " ['andrew'],\n",
              " ['carnegi'],\n",
              " ['anyon'],\n",
              " ['need'],\n",
              " ['p'],\n",
              " ['u'],\n",
              " ['tonight'],\n",
              " ['play'],\n",
              " ['hybrid'],\n",
              " ['slayer'],\n",
              " ['ps4'],\n",
              " ['eu'],\n",
              " ['hmu'],\n",
              " ['expert'],\n",
              " ['franc'],\n",
              " ['begin'],\n",
              " ['examin'],\n",
              " ['airplan'],\n",
              " ['debri'],\n",
              " ['found'],\n",
              " ['reunion'],\n",
              " ['island'],\n",
              " ['french'],\n",
              " ['air'],\n",
              " ['accid'],\n",
              " ['expert'],\n",
              " ['strict'],\n",
              " ['liabil'],\n",
              " ['context'],\n",
              " ['airplan'],\n",
              " ['accid'],\n",
              " ['pilot'],\n",
              " ['error'],\n",
              " ['common'],\n",
              " ['compon'],\n",
              " ['aviat'],\n",
              " ['cr'],\n",
              " ['lifetim'],\n",
              " ['odd'],\n",
              " ['die'],\n",
              " ['airplan'],\n",
              " ['accid'],\n",
              " ['expert'],\n",
              " ['franc'],\n",
              " ['begin'],\n",
              " ['examin'],\n",
              " ['airplan'],\n",
              " ['debri'],\n",
              " ['found'],\n",
              " ['reunion'],\n",
              " ['island'],\n",
              " ['french'],\n",
              " ['air'],\n",
              " ...]"
            ]
          },
          "metadata": {},
          "execution_count": 119
        }
      ],
      "source": [
        "clean_tweets"
      ]
    },
    {
      "cell_type": "code",
      "execution_count": 120,
      "metadata": {
        "id": "SgmH7jUjt5tP"
      },
      "outputs": [],
      "source": [
        "def build_freq(tweets):\n",
        "    freq={}\n",
        "\n",
        "    for i in range(len(tweets)):\n",
        "\n",
        "        for word in tweets[i]:\n",
        "            key=word\n",
        "\n",
        "            if key not in freq.keys():\n",
        "\n",
        "                    freq[key]=1\n",
        "\n",
        "            else:\n",
        "                    freq[key]+=1\n",
        "    return freq"
      ]
    },
    {
      "cell_type": "code",
      "execution_count": 121,
      "metadata": {
        "colab": {
          "base_uri": "https://localhost:8080/"
        },
        "id": "ZILhiQQ_wxNM",
        "outputId": "fd7faef7-dfd7-429d-f1f2-85e366365593"
      },
      "outputs": [
        {
          "output_type": "execute_result",
          "data": {
            "text/plain": [
              "('like', 410)"
            ]
          },
          "metadata": {},
          "execution_count": 121
        }
      ],
      "source": [
        "freq=build_freq(clean_tweets)\n",
        "max_word=max(freq,key=freq.get)\n",
        "max_word,freq[max_word]"
      ]
    },
    {
      "cell_type": "code",
      "execution_count": 122,
      "metadata": {
        "colab": {
          "base_uri": "https://localhost:8080/"
        },
        "id": "QE-MD0QezYjM",
        "outputId": "eb5f99e7-71ae-46dd-c9ec-c714752fe7d3"
      },
      "outputs": [
        {
          "output_type": "execute_result",
          "data": {
            "text/plain": [
              "('the', 3275)"
            ]
          },
          "metadata": {},
          "execution_count": 122
        }
      ],
      "source": [
        "\n",
        "freq=build_freq(stop_tweets)\n",
        "max_word=max(freq,key=freq.get)\n",
        "max_word,freq[max_word]"
      ]
    },
    {
      "cell_type": "markdown",
      "source": [
        "PREPARING DATASET"
      ],
      "metadata": {
        "id": "y-zQIPJpEHyQ"
      }
    },
    {
      "cell_type": "code",
      "execution_count": 123,
      "metadata": {
        "id": "Idr9XCnp5ZIB"
      },
      "outputs": [],
      "source": [
        "#REQ 9\n",
        "def cleaning_tweets(tweets):\n",
        "    clean_tweets=[]\n",
        "    stemmer=PorterStemmer()\n",
        "\n",
        "    for tweet in tweets:\n",
        "        #clean tweet\n",
        "        tweet=re.sub(r'(@|#)[a-zA-Z0-9_]+',\"\",tweet)# remove hash $ mention\n",
        "        tweet=re.sub(r'https?:\\/\\/\\S+',\"\",tweet) # remove hyperlink\n",
        "        tweet=re.sub(r'\\W',\" \",tweet) # remove special chacters \n",
        "        tweet=re.sub(r'\\s[0-9]+\\s',\" \",tweet) # remove numbers\n",
        "        tweet=re.sub('^\\s+',\"\",tweet) # remove spaces\n",
        "        tweet=re.sub('\\s+$',\"\",tweet) # remove spaces\n",
        "\n",
        "        # remove stops words and stemming \n",
        "        clean_tweet=[stemmer.stem(word.lower()) for word in tweet.split() if word.lower() not in stop_words]\n",
        "\n",
        "        clean_tweets.append(clean_tweet)\n",
        "\n",
        "    return clean_tweets"
      ]
    },
    {
      "cell_type": "code",
      "execution_count": 124,
      "metadata": {
        "colab": {
          "base_uri": "https://localhost:8080/"
        },
        "id": "O49aN3J56E-B",
        "outputId": "1123e1f0-c8b0-472f-ee57-89d6ae4ed255"
      },
      "outputs": [
        {
          "output_type": "execute_result",
          "data": {
            "text/plain": [
              "7613"
            ]
          },
          "metadata": {},
          "execution_count": 124
        }
      ],
      "source": [
        "clean_tweets=cleaning_tweets(tweets.text)\n",
        "len(clean_tweets)"
      ]
    },
    {
      "cell_type": "code",
      "execution_count": 125,
      "metadata": {
        "id": "W2Y1_xNgmnQD",
        "colab": {
          "base_uri": "https://localhost:8080/"
        },
        "outputId": "cc904021-4ce0-4f70-9de8-47f61f50cbef"
      },
      "outputs": [
        {
          "output_type": "execute_result",
          "data": {
            "text/plain": [
              "23"
            ]
          },
          "metadata": {},
          "execution_count": 125
        }
      ],
      "source": [
        "from tensorflow.keras.preprocessing.text import Tokenizer\n",
        "toknizer=Tokenizer()\n",
        "toknizer.fit_on_texts(clean_tweets)\n",
        "sequence=toknizer.texts_to_sequences(clean_tweets)\n",
        "\n",
        "len_seq=[len(sent) for sent in sequence]\n",
        "max(len_seq)"
      ]
    },
    {
      "cell_type": "code",
      "execution_count": 126,
      "metadata": {
        "id": "QrxnFTGlop_L"
      },
      "outputs": [],
      "source": [
        "#Pading\n"
      ]
    },
    {
      "cell_type": "code",
      "execution_count": 127,
      "metadata": {
        "id": "ACEaRYUS1Njd"
      },
      "outputs": [],
      "source": [
        "from tensorflow.keras.preprocessing.sequence import pad_sequences\n",
        "\n",
        "padd_sequnces=pad_sequences(sequence,maxlen=30)\n"
      ]
    },
    {
      "cell_type": "code",
      "source": [
        "padd_sequnces"
      ],
      "metadata": {
        "colab": {
          "base_uri": "https://localhost:8080/"
        },
        "id": "VYfObzeFKHw6",
        "outputId": "1dac0341-8720-414d-e71f-9ed2bf4e6922"
      },
      "execution_count": 128,
      "outputs": [
        {
          "output_type": "execute_result",
          "data": {
            "text/plain": [
              "array([[   0,    0,    0, ..., 2362, 2822,   49],\n",
              "       [   0,    0,    0, ..., 4888, 4889, 1183],\n",
              "       [   0,    0,    0, ...,  384,  300,  422],\n",
              "       ...,\n",
              "       [   0,    0,    0, ..., 1333,  489, 1334],\n",
              "       [   0,    0,    0, ...,   91,  911,   96],\n",
              "       [   0,    0,    0, ...,  140,  652,   44]], dtype=int32)"
            ]
          },
          "metadata": {},
          "execution_count": 128
        }
      ]
    },
    {
      "cell_type": "code",
      "source": [
        "len(padd_sequnces)"
      ],
      "metadata": {
        "colab": {
          "base_uri": "https://localhost:8080/"
        },
        "id": "zIfI8fYXjOh0",
        "outputId": "6b8484ed-6947-454f-eecf-aaa86f51e8a5"
      },
      "execution_count": 129,
      "outputs": [
        {
          "output_type": "execute_result",
          "data": {
            "text/plain": [
              "7613"
            ]
          },
          "metadata": {},
          "execution_count": 129
        }
      ]
    },
    {
      "cell_type": "markdown",
      "source": [
        "TRAIN TEST SPLIT"
      ],
      "metadata": {
        "id": "OItyWnizFJTA"
      }
    },
    {
      "cell_type": "code",
      "source": [
        "#REQ 10\n",
        "from sklearn.model_selection import train_test_split\n",
        "import numpy as np \n",
        "train_X,test_X,train_y,test_y = train_test_split(padd_sequnces,np.array(tweets['target']),test_size=0.15)"
      ],
      "metadata": {
        "id": "Z5D_-v_KKYHs"
      },
      "execution_count": 130,
      "outputs": []
    },
    {
      "cell_type": "markdown",
      "source": [
        "TRAIN LSTM"
      ],
      "metadata": {
        "id": "e-wFXpIhFPmc"
      }
    },
    {
      "cell_type": "code",
      "source": [
        "#REQ 11\n",
        "from tensorflow.keras.models import Sequential\n",
        "from tensorflow.keras.layers import Dense,LSTM,Embedding,Dropout,SpatialDropout1D\n",
        "\n",
        "\n",
        "model=Sequential()\n",
        "model.add(Embedding(1000,500,input_length=padd_sequnces.shape[1]))\n",
        "model.add(Dropout(0.7))\n",
        "model.add(LSTM(100, dropout=0.5, return_sequences=True,recurrent_dropout=0.5))\n",
        "model.add(Dropout(0.7))\n",
        "model.add(LSTM(32, dropout=0.5, recurrent_dropout=0.5))\n",
        "model.add(Dense(1,activation='sigmoid'))\n",
        "model.compile(loss = 'binary_crossentropy', optimizer='adam' ,metrics = ['accuracy'])\n",
        "model.summary()"
      ],
      "metadata": {
        "colab": {
          "base_uri": "https://localhost:8080/"
        },
        "id": "BcSUf1pDKMBj",
        "outputId": "bdead3cb-fc8b-454b-8512-ed376dd8b290"
      },
      "execution_count": 131,
      "outputs": [
        {
          "output_type": "stream",
          "name": "stdout",
          "text": [
            "WARNING:tensorflow:Layer lstm_4 will not use cuDNN kernels since it doesn't meet the criteria. It will use a generic GPU kernel as fallback when running on GPU.\n"
          ]
        },
        {
          "output_type": "stream",
          "name": "stderr",
          "text": [
            "WARNING:tensorflow:Layer lstm_4 will not use cuDNN kernels since it doesn't meet the criteria. It will use a generic GPU kernel as fallback when running on GPU.\n"
          ]
        },
        {
          "output_type": "stream",
          "name": "stdout",
          "text": [
            "WARNING:tensorflow:Layer lstm_5 will not use cuDNN kernels since it doesn't meet the criteria. It will use a generic GPU kernel as fallback when running on GPU.\n"
          ]
        },
        {
          "output_type": "stream",
          "name": "stderr",
          "text": [
            "WARNING:tensorflow:Layer lstm_5 will not use cuDNN kernels since it doesn't meet the criteria. It will use a generic GPU kernel as fallback when running on GPU.\n"
          ]
        },
        {
          "output_type": "stream",
          "name": "stdout",
          "text": [
            "Model: \"sequential_4\"\n",
            "_________________________________________________________________\n",
            " Layer (type)                Output Shape              Param #   \n",
            "=================================================================\n",
            " embedding_2 (Embedding)     (None, 30, 500)           500000    \n",
            "                                                                 \n",
            " dropout_4 (Dropout)         (None, 30, 500)           0         \n",
            "                                                                 \n",
            " lstm_4 (LSTM)               (None, 30, 100)           240400    \n",
            "                                                                 \n",
            " dropout_5 (Dropout)         (None, 30, 100)           0         \n",
            "                                                                 \n",
            " lstm_5 (LSTM)               (None, 32)                17024     \n",
            "                                                                 \n",
            " dense_2 (Dense)             (None, 1)                 33        \n",
            "                                                                 \n",
            "=================================================================\n",
            "Total params: 757,457\n",
            "Trainable params: 757,457\n",
            "Non-trainable params: 0\n",
            "_________________________________________________________________\n"
          ]
        }
      ]
    },
    {
      "cell_type": "code",
      "source": [
        "train_X\n"
      ],
      "metadata": {
        "colab": {
          "base_uri": "https://localhost:8080/"
        },
        "id": "E--6BTwxRxSm",
        "outputId": "d9a51a07-f27f-4d63-ca4d-5f2b91b98904"
      },
      "execution_count": 132,
      "outputs": [
        {
          "output_type": "execute_result",
          "data": {
            "text/plain": [
              "array([[   0,    0,    0, ...,  737, 1318,    8],\n",
              "       [   0,    0,    0, ..., 1652, 2402,  451],\n",
              "       [   0,    0,    0, ..., 1812,   71,  390],\n",
              "       ...,\n",
              "       [   0,    0,    0, ...,  183, 7118,    4],\n",
              "       [   0,    0,    0, ..., 1099,  598,  646],\n",
              "       [   0,    0,    0, ...,  321,  314, 1247]], dtype=int32)"
            ]
          },
          "metadata": {},
          "execution_count": 132
        }
      ]
    },
    {
      "cell_type": "code",
      "source": [
        "train_y"
      ],
      "metadata": {
        "colab": {
          "base_uri": "https://localhost:8080/"
        },
        "id": "kgk7VVTosMzt",
        "outputId": "bca40b29-c94e-4b9a-d903-40ae335ab820"
      },
      "execution_count": 133,
      "outputs": [
        {
          "output_type": "execute_result",
          "data": {
            "text/plain": [
              "array([1, 0, 1, ..., 1, 1, 1])"
            ]
          },
          "metadata": {},
          "execution_count": 133
        }
      ]
    },
    {
      "cell_type": "code",
      "source": [
        "!pip install keras\n",
        "import keras"
      ],
      "metadata": {
        "colab": {
          "base_uri": "https://localhost:8080/"
        },
        "id": "--r2V-TktsYq",
        "outputId": "dd609f3d-9917-4769-b393-a9345aa95046"
      },
      "execution_count": 134,
      "outputs": [
        {
          "output_type": "stream",
          "name": "stdout",
          "text": [
            "Looking in indexes: https://pypi.org/simple, https://us-python.pkg.dev/colab-wheels/public/simple/\n",
            "Requirement already satisfied: keras in /usr/local/lib/python3.7/dist-packages (2.8.0)\n"
          ]
        }
      ]
    },
    {
      "cell_type": "code",
      "source": [
        "es_callback = keras.callbacks.EarlyStopping(monitor='val_loss', patience=3)"
      ],
      "metadata": {
        "id": "awiHCbwVttqV"
      },
      "execution_count": 135,
      "outputs": []
    },
    {
      "cell_type": "code",
      "source": [
        "history=model.fit(train_X,train_y,batch_size=32,epochs=10,callbacks=[es_callback],validation_split=0.1)"
      ],
      "metadata": {
        "colab": {
          "base_uri": "https://localhost:8080/"
        },
        "id": "5hR6D53xKQtb",
        "outputId": "5e0e64f7-53d2-40be-c5e1-579bba6ceefc"
      },
      "execution_count": 136,
      "outputs": [
        {
          "output_type": "stream",
          "name": "stdout",
          "text": [
            "Epoch 1/10\n",
            "182/182 [==============================] - 65s 312ms/step - loss: 0.6067 - accuracy: 0.6634 - val_loss: 0.5164 - val_accuracy: 0.7423\n",
            "Epoch 2/10\n",
            "182/182 [==============================] - 49s 270ms/step - loss: 0.4588 - accuracy: 0.7956 - val_loss: 0.5242 - val_accuracy: 0.7485\n",
            "Epoch 3/10\n",
            "182/182 [==============================] - 46s 252ms/step - loss: 0.4284 - accuracy: 0.8144 - val_loss: 0.5164 - val_accuracy: 0.7608\n",
            "Epoch 4/10\n",
            "182/182 [==============================] - 47s 256ms/step - loss: 0.4073 - accuracy: 0.8219 - val_loss: 0.5191 - val_accuracy: 0.7608\n",
            "Epoch 5/10\n",
            "182/182 [==============================] - 45s 249ms/step - loss: 0.3975 - accuracy: 0.8286 - val_loss: 0.5331 - val_accuracy: 0.7546\n",
            "Epoch 6/10\n",
            "182/182 [==============================] - 46s 254ms/step - loss: 0.3864 - accuracy: 0.8336 - val_loss: 0.5513 - val_accuracy: 0.7608\n"
          ]
        }
      ]
    },
    {
      "cell_type": "markdown",
      "source": [
        "EVALUATE MODEL"
      ],
      "metadata": {
        "id": "tM7OY_C5FW9S"
      }
    },
    {
      "cell_type": "code",
      "source": [
        "#REQ 12\n",
        "model.evaluate(test_X,test_y)\n",
        "test=[\"Rape victim dies as she sets herself ablaze: A 16-year-old girl died of burn injuries as she set herself ablazeÂ‰Ã›_ http://t.co/UK8hNrbOob\",\n",
        "      \"Awesome!\",\n",
        "      'If your nature appropriates it love will burn you until you become annihilated in your beloved...https://t.co/sMlwjunD0',\n",
        "      'Bombing of Hiroshima 1945. http://t.co/4UHq9jKCvq']\n",
        "test_process=cleaning_tweets(test)\n",
        "sequence1=toknizer.texts_to_sequences(test_process)\n",
        "padd_sequnce=pad_sequences(sequence1,maxlen=30)\n",
        "model.predict(padd_sequnce).round()"
      ],
      "metadata": {
        "colab": {
          "base_uri": "https://localhost:8080/"
        },
        "id": "5_QGM946BX6x",
        "outputId": "cf463643-7b74-4244-9367-1b8360a25739"
      },
      "execution_count": 137,
      "outputs": [
        {
          "output_type": "stream",
          "name": "stdout",
          "text": [
            "36/36 [==============================] - 1s 20ms/step - loss: 0.5345 - accuracy: 0.7583\n"
          ]
        },
        {
          "output_type": "execute_result",
          "data": {
            "text/plain": [
              "array([[1.],\n",
              "       [0.],\n",
              "       [0.],\n",
              "       [1.]], dtype=float32)"
            ]
          },
          "metadata": {},
          "execution_count": 137
        }
      ]
    },
    {
      "cell_type": "markdown",
      "source": [
        "Evaluate the results with charts of acc and loss"
      ],
      "metadata": {
        "id": "ckKp9wWLFaM4"
      }
    },
    {
      "cell_type": "code",
      "source": [
        "#Req 13\n",
        "import matplotlib.pyplot as plt"
      ],
      "metadata": {
        "id": "N43XEZQcLL9O"
      },
      "execution_count": 138,
      "outputs": []
    },
    {
      "cell_type": "code",
      "source": [
        "loss_train = history.history['loss']\n",
        "loss_val = history.history['val_loss']\n",
        "epochs = range(0,6)\n",
        "plt.plot(epochs, loss_train, 'g', label='Training loss')\n",
        "plt.plot(epochs, loss_val, 'b', label='validation loss')\n",
        "plt.title('Training and Validation loss')\n",
        "plt.xlabel('Epochs')\n",
        "plt.ylabel('Loss')\n",
        "plt.legend()\n",
        "plt.show()"
      ],
      "metadata": {
        "colab": {
          "base_uri": "https://localhost:8080/",
          "height": 295
        },
        "id": "Jm1eYMZ_1TJB",
        "outputId": "f952e9ea-2d8c-4d3b-d57d-bc7439b96bfb"
      },
      "execution_count": 140,
      "outputs": [
        {
          "output_type": "display_data",
          "data": {
            "text/plain": [
              "<Figure size 432x288 with 1 Axes>"
            ],
            "image/png": "[encoded data removed]"
          },
          "metadata": {
            "needs_background": "light"
          }
        }
      ]
    },
    {
      "cell_type": "code",
      "source": [
        "acc_train = history.history['accuracy']\n",
        "acc_val = history.history['val_accuracy']\n",
        "epochs = range(0,6)\n",
        "plt.plot(epochs, acc_train, 'g', label='Training accuracy')\n",
        "plt.plot(epochs, acc_val, 'b', label='validation accuracy')\n",
        "plt.title('Training and Validation accuracy')\n",
        "plt.xlabel('Epochs')\n",
        "plt.ylabel('Accuracy')\n",
        "plt.legend()\n",
        "plt.show()"
      ],
      "metadata": {
        "id": "aXSsU1Gv1T27",
        "colab": {
          "base_uri": "https://localhost:8080/",
          "height": 295
        },
        "outputId": "6828841e-343c-46be-d21f-aa105bdf57ff"
      },
      "execution_count": 142,
      "outputs": [
        {
          "output_type": "display_data",
          "data": {
            "text/plain": [
              "<Figure size 432x288 with 1 Axes>"
            ],
            "image/png": "[encoded data removed]"
          },
          "metadata": {
            "needs_background": "light"
          }
        }
      ]
    },
    {
      "cell_type": "markdown",
      "source": [
        "SAVE MODEL"
      ],
      "metadata": {
        "id": "Cpg646p7FhFi"
      }
    },
    {
      "cell_type": "code",
      "source": [
        "#REQ 14\n",
        "model.save('project.F')#save model"
      ],
      "metadata": {
        "colab": {
          "base_uri": "https://localhost:8080/"
        },
        "id": "mnmwoj5zBGJE",
        "outputId": "63de4351-0d86-473d-8e0f-bbda19489366"
      },
      "execution_count": 143,
      "outputs": [
        {
          "output_type": "stream",
          "name": "stdout",
          "text": [
            "INFO:tensorflow:Assets written to: project.F/assets\n"
          ]
        },
        {
          "output_type": "stream",
          "name": "stderr",
          "text": [
            "INFO:tensorflow:Assets written to: project.F/assets\n",
            "WARNING:absl:<keras.layers.recurrent.LSTMCell object at 0x7fc773d30d50> has the same name 'LSTMCell' as a built-in Keras object. Consider renaming <class 'keras.layers.recurrent.LSTMCell'> to avoid naming conflicts when loading with `tf.keras.models.load_model`. If renaming is not possible, pass the object in the `custom_objects` parameter of the load function.\n",
            "WARNING:absl:<keras.layers.recurrent.LSTMCell object at 0x7fc67204c210> has the same name 'LSTMCell' as a built-in Keras object. Consider renaming <class 'keras.layers.recurrent.LSTMCell'> to avoid naming conflicts when loading with `tf.keras.models.load_model`. If renaming is not possible, pass the object in the `custom_objects` parameter of the load function.\n"
          ]
        }
      ]
    },
    {
      "cell_type": "code",
      "source": [
        ""
      ],
      "metadata": {
        "id": "_UccrzYZDVEe"
      },
      "execution_count": null,
      "outputs": []
    }
  ],
  "metadata": {
    "colab": {
      "collapsed_sections": [],
      "name": "AI-Proj.ipynb",
      "provenance": []
    },
    "kernelspec": {
      "display_name": "Python 3",
      "name": "python3"
    },
    "language_info": {
      "name": "python"
    },
    "accelerator": "GPU",
    "gpuClass": "standard"
  },
  "nbformat": 4,
  "nbformat_minor": 0
}